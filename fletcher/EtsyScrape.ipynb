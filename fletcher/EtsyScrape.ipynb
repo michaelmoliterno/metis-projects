{
 "metadata": {
  "name": "",
  "signature": "sha256:674cb3bafbad875203d7ff6c822b7731f6bf7612ac363f409b58be9b4d80426d"
 },
 "nbformat": 3,
 "nbformat_minor": 0,
 "worksheets": [
  {
   "cells": [
    {
     "cell_type": "code",
     "collapsed": false,
     "input": [
      "__author__ = 'michaelmoliterno'\n",
      "\n",
      "import urllib2\n",
      "from bs4 import BeautifulSoup\n",
      "import re\n",
      "\n",
      "import pickle\n",
      "import time\n",
      "from random import randint\n",
      "from dateutil.parser import parse\n",
      "import requests\n",
      "from requests_oauthlib import OAuth1\n",
      "import pprint\n",
      "from sklearn.feature_extraction.text import TfidfVectorizer\n",
      "from scipy.sparse import coo_matrix\n",
      "from scipy.spatial.distance import pdist, squareform\n",
      "from sklearn.metrics import pairwise_distances\n",
      "from scipy.sparse import vstack\n",
      "import numpy as np\n",
      "from sklearn.cluster import KMeans\n",
      "from sklearn import metrics\n",
      "import pymongo\n",
      "import matplotlib.pyplot as plt\n",
      "import matplotlib.mlab as mlab\n",
      "import numpy as np\n",
      "from bson.code import Code\n",
      " \n",
      "\n",
      "%matplotlib inline\n",
      "\n",
      "opener = urllib2.build_opener()\n",
      "opener.addheaders = [('User-agent', 'Mozilla/5.0')]"
     ],
     "language": "python",
     "metadata": {},
     "outputs": [],
     "prompt_number": 130
    },
    {
     "cell_type": "code",
     "collapsed": false,
     "input": [
      "c = pymongo.MongoClient(\"104.236.210.32\")\n",
      "db = c['etsy_db']\n",
      "\n",
      "# transaction_comments = db['etsy_transaction_comments']\n",
      "shops_inventories = db['etsy_shops_inventories_master']\n",
      "\n",
      "# transaction_comments.aggregate([\n",
      "# #      { '$project': { '_id': 1, 'item_title':1}}  ,\n",
      "# #      { '$out': \"etsy_transaction_comments_title_search\" }\n",
      "# # ])\n",
      "\n",
      "# # transaction_comments_titles = db['etsy_transaction_comments_title_search']"
     ],
     "language": "python",
     "metadata": {},
     "outputs": [],
     "prompt_number": 131
    },
    {
     "cell_type": "code",
     "collapsed": false,
     "input": [
      "# #this has been run!\n",
      "# transaction_comments_titles.ensure_index(\n",
      "\n",
      "#     [('item_title', 'text')],\n",
      "\n",
      "#     name=\"search_index\",\n",
      "\n",
      "#     default_language= \"en\",\n",
      "\n",
      "#     language_override= \"en\" \n",
      "# )"
     ],
     "language": "python",
     "metadata": {},
     "outputs": [
      {
       "metadata": {},
       "output_type": "pyout",
       "prompt_number": 4,
       "text": [
        "'search_index'"
       ]
      }
     ],
     "prompt_number": 4
    },
    {
     "cell_type": "code",
     "collapsed": false,
     "input": [
      "# #this has been run!\n",
      "# transaction_comments.ensure_index(\n",
      "\n",
      "#     [('item_title', 'text'),\n",
      "#      ('review_text', 'text')],\n",
      "\n",
      "#     name=\"search_index\",\n",
      "\n",
      "#     default_language= \"en\",\n",
      "\n",
      "#     language_override= \"en\" \n",
      "# )"
     ],
     "language": "python",
     "metadata": {},
     "outputs": [
      {
       "metadata": {},
       "output_type": "pyout",
       "prompt_number": 90,
       "text": [
        "'search_index'"
       ]
      }
     ],
     "prompt_number": 90
    },
    {
     "cell_type": "code",
     "collapsed": false,
     "input": [
      "shops_inventories.aggregate([\n",
      "     { '$project': { '_id': 1, 'listing_id':1, 'title' :1} } ,\n",
      "     { '$out': \"etsy_shops_inventories_master_title_search\" }\n",
      "])\n",
      "\n",
      "shops_inventories_titles = db['etsy_shops_inventories_master_title_search']"
     ],
     "language": "python",
     "metadata": {},
     "outputs": [],
     "prompt_number": 91
    },
    {
     "cell_type": "code",
     "collapsed": false,
     "input": [
      "#this has been run!\n",
      "shops_inventories_titles.ensure_index(\n",
      "\n",
      "    [('title', 'text')],\n",
      "\n",
      "    name=\"search_index\",\n",
      "\n",
      "    default_language= \"en\",\n",
      "\n",
      "    language_override= \"en\" \n",
      ")"
     ],
     "language": "python",
     "metadata": {},
     "outputs": [
      {
       "metadata": {},
       "output_type": "pyout",
       "prompt_number": 92,
       "text": [
        "'search_index'"
       ]
      }
     ],
     "prompt_number": 92
    },
    {
     "cell_type": "code",
     "collapsed": false,
     "input": [
      "#this has been run!\n",
      "shops_inventories.ensure_index(\n",
      "\n",
      "    [('title', 'text'),\n",
      "     ('description', 'text'),\n",
      "     ('tags', 'text'),\n",
      "     ('materials', 'text'),\n",
      "     ('taxonomy_path', 'text')],\n",
      "\n",
      "    name=\"search_index\",\n",
      "\n",
      "    default_language= \"en\",\n",
      "\n",
      "    language_override= \"en\" \n",
      ")"
     ],
     "language": "python",
     "metadata": {},
     "outputs": [
      {
       "metadata": {},
       "output_type": "pyout",
       "prompt_number": 93,
       "text": [
        "'search_index'"
       ]
      }
     ],
     "prompt_number": 93
    },
    {
     "cell_type": "code",
     "collapsed": false,
     "input": [
      "# from pymongo import ASCENDING\n",
      "# shops_inventories.create_index([( \"inserted_date\",ASCENDING)])"
     ],
     "language": "python",
     "metadata": {},
     "outputs": [
      {
       "metadata": {},
       "output_type": "pyout",
       "prompt_number": 17,
       "text": [
        "u'inserted_date_1'"
       ]
      }
     ],
     "prompt_number": 17
    },
    {
     "cell_type": "code",
     "collapsed": false,
     "input": [
      "shops_inventories_titles.aggregate([\n",
      "     { '$match': { '$text': { '$search': \"bag\" } } },\n",
      "     { '$project': { '_id': 1 } },\n",
      "     { '$out': \"temp0_inventory_bags\" }\n",
      "])\n",
      "\n",
      "inventory_bags = db['temp0_inventory_bags']"
     ],
     "language": "python",
     "metadata": {},
     "outputs": [],
     "prompt_number": 94
    },
    {
     "cell_type": "code",
     "collapsed": false,
     "input": [
      "print inventory_bags.count(), \"inventory records to pull for de-duping and price/quantity checks\""
     ],
     "language": "python",
     "metadata": {},
     "outputs": [
      {
       "output_type": "stream",
       "stream": "stdout",
       "text": [
        "283080 inventory records to pull for de-duping and price/quantity checks\n"
       ]
      }
     ],
     "prompt_number": 95
    },
    {
     "cell_type": "code",
     "collapsed": false,
     "input": [
      "# bag_inventory_ids = list(inventory_bags.find({},{'_id':1}).distinct('_id'))\n",
      "\n",
      "# inventories_bags = db['temp1_inventory_only_bags']\n",
      "\n",
      "# #this populated the database and only needed to be run once\n",
      "# inventories_bags.insert(shops_inventories.find(   \n",
      "#                             {'_id': {'$in': bag_inventory_ids}},\n",
      "#                             {'_id':1,'listing_id':1,'price':1,'quantity':1,'inserted_date':1}))"
     ],
     "language": "python",
     "metadata": {},
     "outputs": [],
     "prompt_number": 313
    },
    {
     "cell_type": "code",
     "collapsed": false,
     "input": [
      "inventories_bags.aggregate([\n",
      "  { '$group': { \n",
      "    '_id': { 'listing_id': '$listing_id', 'price': '$price', 'quantity': '$quantity','inserted_date':'$inserted_date'}, \n",
      "    'uniqueIds': { '$addToSet': '$_id'},\n",
      "    'count': { '$sum': 1 } \n",
      "  }}, \n",
      "  { '$match': { \n",
      "    'count': { '$gt': 1 } \n",
      "  }},\n",
      "    { '$out': \"temp2_inventory_only_bags_dup_groups\" }\n",
      "], \n",
      "\n",
      "allowDiskUse=True\n",
      "\n",
      ")\n",
      "\n",
      "inventory_bags_dup_groups = db['temp2_inventory_only_bags_dup_groups']"
     ],
     "language": "python",
     "metadata": {},
     "outputs": [],
     "prompt_number": 97
    },
    {
     "cell_type": "code",
     "collapsed": false,
     "input": [
      "dups_to_delete = []\n",
      "\n",
      "for dup_set in inventory_bags_dup_groups.find():\n",
      "    dups_to_delete = dups_to_delete + dup_set['uniqueIds'][1:]"
     ],
     "language": "python",
     "metadata": {},
     "outputs": [],
     "prompt_number": 98
    },
    {
     "cell_type": "code",
     "collapsed": false,
     "input": [
      "print len(dups_to_deledups_to_delete"
     ],
     "language": "python",
     "metadata": {},
     "outputs": [
      {
       "output_type": "stream",
       "stream": "stdout",
       "text": [
        "0\n"
       ]
      }
     ],
     "prompt_number": 99
    },
    {
     "cell_type": "code",
     "collapsed": false,
     "input": [
      "bags_inventory_ids_no_dups = list(set(bag_inventory_ids) - set(dups_to_delete))"
     ],
     "language": "python",
     "metadata": {},
     "outputs": [],
     "prompt_number": 100
    },
    {
     "cell_type": "code",
     "collapsed": false,
     "input": [
      "print len(bags_inventory_ids_no_dups), \"items to check for price/quantity checks\""
     ],
     "language": "python",
     "metadata": {},
     "outputs": [
      {
       "output_type": "stream",
       "stream": "stdout",
       "text": [
        "283080 items to check for price/quantity checks\n"
       ]
      }
     ],
     "prompt_number": 101
    },
    {
     "cell_type": "code",
     "collapsed": false,
     "input": [
      "# inventories_bags_no_dups = db['temp3_inventory_only_bags_no_dups']\n",
      "\n",
      "# #this populated the database and only needed to be run once\n",
      "# inventories_bags_no_dups\\\n",
      "# .insert(shops_inventories\\\n",
      "#         .find(   {'_id': {'$in': bags_inventory_ids_no_dups}},\n",
      "#                  {'_id':1,'listing_id':1,'price':1,'quantity':1,'inserted_date':1}).sort('inserted_date',1)\\\n",
      "#         )"
     ],
     "language": "python",
     "metadata": {},
     "outputs": [],
     "prompt_number": 312
    },
    {
     "cell_type": "code",
     "collapsed": false,
     "input": [
      "inventories_bags_no_dups.aggregate([\n",
      "  { '$group': { \n",
      "    '_id': { 'listing_id': '$listing_id', 'price': '$price', 'quantity': '$quantity'}, \n",
      "    'uniqueIds': { '$push': '$_id'},\n",
      "    'dates':     { '$push': '$inserted_date'},\n",
      "    'count': { '$sum': 1 }\n",
      "  }}, \n",
      "  { '$match': { \n",
      "    'count': { '$gt': 1 } \n",
      "  }},\n",
      "    { '$out': \"temp4_inventory_only_bags_no_data_change_groups\" }\n",
      "])\n",
      "\n",
      "inventory_only_bags_no_data_change_groups = db['temp4_inventory_only_bags_no_data_change_groups']"
     ],
     "language": "python",
     "metadata": {},
     "outputs": [],
     "prompt_number": 103
    },
    {
     "cell_type": "code",
     "collapsed": false,
     "input": [
      "inventory_only_bags_no_data_change_groups.update({}, { '$pop' : {'uniqueIds':-1}}, multi=True)"
     ],
     "language": "python",
     "metadata": {},
     "outputs": [
      {
       "metadata": {},
       "output_type": "pyout",
       "prompt_number": 104,
       "text": [
        "{u'n': 71957, u'nModified': 71957, u'ok': 1, 'updatedExisting': True}"
       ]
      }
     ],
     "prompt_number": 104
    },
    {
     "cell_type": "code",
     "collapsed": false,
     "input": [
      "inventory_only_bags_no_data_change_groups.aggregate([\n",
      "    {'$unwind': \"$uniqueIds\"},\n",
      "    {'$group': {\"_id\":\"$uniqueIds\"}},\n",
      "    { '$out': \"temp5_inventory_only_bags_no_data_change_items_to_delete\" }\n",
      "])\n",
      "\n",
      "inventory_only_bags_no_data_change_items_to_delete = db['temp5_inventory_only_bags_no_data_change_items_to_delete']"
     ],
     "language": "python",
     "metadata": {},
     "outputs": [],
     "prompt_number": 105
    },
    {
     "cell_type": "code",
     "collapsed": false,
     "input": [
      "no_data_change_to_delete = []\n",
      "\n",
      "for item in inventory_only_bags_no_data_change_items_to_delete.find():\n",
      "    no_data_change_to_delete.append(item['_id'])"
     ],
     "language": "python",
     "metadata": {},
     "outputs": [],
     "prompt_number": 106
    },
    {
     "cell_type": "code",
     "collapsed": false,
     "input": [
      "print len(no_data_change_to_delete), \"no update inventories to ignore\""
     ],
     "language": "python",
     "metadata": {},
     "outputs": [
      {
       "output_type": "stream",
       "stream": "stdout",
       "text": [
        "71957 no update inventories to ignore\n"
       ]
      }
     ],
     "prompt_number": 107
    },
    {
     "cell_type": "code",
     "collapsed": false,
     "input": [
      "bags_inventory_ids_distinct_events = list(set(bags_inventory_ids_no_dups) - set(no_data_change_to_delete))"
     ],
     "language": "python",
     "metadata": {},
     "outputs": [],
     "prompt_number": 108
    },
    {
     "cell_type": "code",
     "collapsed": false,
     "input": [
      "print len(bags_inventory_ids_distinct_events), \"bags to analyze for changes in price/stock\""
     ],
     "language": "python",
     "metadata": {},
     "outputs": [
      {
       "output_type": "stream",
       "stream": "stdout",
       "text": [
        "211123 bags to analyze for changes in price/stock\n"
       ]
      }
     ],
     "prompt_number": 109
    },
    {
     "cell_type": "code",
     "collapsed": false,
     "input": [
      "# query_inventories_bags = db['temp6_inventories_bags_distinct_events']\n",
      "\n",
      "# #this populated the database and only needed to be run once\n",
      "# query_inventories_bags\\\n",
      "# .insert(shops_inventories\\\n",
      "#         .find(   {'_id': {'$in': bags_inventory_ids_distinct_events}},\n",
      "#                  {'_id':1,'listing_id':1,'price':1,'quantity':1,'inserted_date':1}).sort('inserted_date',1)\\\n",
      "#         )"
     ],
     "language": "python",
     "metadata": {},
     "outputs": [],
     "prompt_number": 311
    },
    {
     "cell_type": "code",
     "collapsed": false,
     "input": [
      "query_inventories_bags.aggregate([\n",
      "  { '$group': { \n",
      "    '_id': { 'listing_id': '$listing_id'}, \n",
      "    'price': { '$push': '$price'},\n",
      "    'quantity':     { '$push': '$quantity'},\n",
      "    'count': { '$sum': 1 }\n",
      "  }}, \n",
      "  { '$match': { \n",
      "    'count': { '$gt': 1 } \n",
      "  }},\n",
      "    { '$out': \"inventory_movements\" }\n",
      "])\n",
      "\n",
      "inventory_movements = db['inventory_movements']"
     ],
     "language": "python",
     "metadata": {},
     "outputs": [],
     "prompt_number": 111
    },
    {
     "cell_type": "code",
     "collapsed": false,
     "input": [
      "## delete dups_to_delete from master\n",
      "\n",
      "shops_inventories.remove({'_id':{'$in':dups_to_delete}})"
     ],
     "language": "python",
     "metadata": {},
     "outputs": [
      {
       "metadata": {},
       "output_type": "pyout",
       "prompt_number": 112,
       "text": [
        "{u'n': 0, u'ok': 1}"
       ]
      }
     ],
     "prompt_number": 112
    },
    {
     "cell_type": "code",
     "collapsed": false,
     "input": [
      "print len(no_data_change_to_delete)"
     ],
     "language": "python",
     "metadata": {},
     "outputs": [
      {
       "output_type": "stream",
       "stream": "stdout",
       "text": [
        "71957\n"
       ]
      }
     ],
     "prompt_number": 113
    },
    {
     "cell_type": "code",
     "collapsed": false,
     "input": [
      "## delete no_data_change_to_delete from master, but save in a tracking table\n",
      "\n",
      "shops_inventories_bags_tracking = db['etsy_shops_inventories_bags_tracking']\n",
      "\n",
      "#this populated the database and only needed to be run once\n",
      "shops_inventories_bags_tracking\\\n",
      ".insert(shops_inventories\\\n",
      "        .find(   {'_id': {'$in': no_data_change_to_delete}},\n",
      "                 {'_id':1,'listing_id':1,'price':1,'quantity':1,'inserted_date':1})\\\n",
      "        )\n",
      "\n",
      "shops_inventories.remove({'_id':{'$in':no_data_change_to_delete}})"
     ],
     "language": "python",
     "metadata": {},
     "outputs": [
      {
       "metadata": {},
       "output_type": "pyout",
       "prompt_number": 114,
       "text": [
        "{u'n': 71957, u'ok': 1}"
       ]
      }
     ],
     "prompt_number": 114
    },
    {
     "cell_type": "code",
     "collapsed": false,
     "input": [
      "# delete non-bags from table, but save ids somewhere else\n",
      "\n",
      "# shops_inventories_non_bags = db['etsy_shops_inventories_non_bags']\n",
      "\n",
      "# # #this populated the database and only needed to be run once\n",
      "# shops_inventories_non_bags.insert(shops_inventories.find(   \n",
      "#                             {'_id': {'$nin': bag_inventory_ids}}))\n",
      "\n",
      "# shops_inventories.remove({'_id':{'$nin':bag_inventory_ids}})"
     ],
     "language": "python",
     "metadata": {},
     "outputs": [],
     "prompt_number": 116
    },
    {
     "cell_type": "code",
     "collapsed": false,
     "input": [
      "shops_inventories.aggregate([\n",
      "  { '$group': { \n",
      "    '_id': { 'listing_id': '$listing_id'}, \n",
      "    'uniqueId': { '$max': '$_id'}\n",
      "  }}, \n",
      "    { '$out': \"temp7_current_bag_market_ids\" }\n",
      "])\n",
      "\n",
      "current_bag_market_ids_coll = db['temp7_current_bag_market_ids']"
     ],
     "language": "python",
     "metadata": {},
     "outputs": [],
     "prompt_number": 163
    },
    {
     "cell_type": "code",
     "collapsed": false,
     "input": [
      "current_bag_market_ids = list(current_bag_market_ids_coll.find({},{'uniqueId':1}).distinct('uniqueId'))\n",
      "\n",
      "current_bag_market = db['current_bag_market']\n",
      "\n",
      "current_bag_market.insert(shops_inventories.find(   \n",
      "                {'_id': {'$in': current_bag_market_ids}},\n",
      "                {'_id':1,'listing_id':1,'price':1,'quantity':1,'inserted_date':1,'title':1}))\n",
      "\n",
      "\n",
      "#this has been run!\n",
      "current_bag_market.ensure_index(\n",
      "\n",
      "    [('title', 'text')],\n",
      "\n",
      "    name=\"search_index\",\n",
      "\n",
      "    default_language= \"en\",\n",
      "\n",
      "    language_override= \"en\" \n",
      ")"
     ],
     "language": "python",
     "metadata": {},
     "outputs": [
      {
       "metadata": {},
       "output_type": "pyout",
       "prompt_number": 189,
       "text": [
        "'search_index'"
       ]
      }
     ],
     "prompt_number": 189
    },
    {
     "cell_type": "code",
     "collapsed": false,
     "input": [],
     "language": "python",
     "metadata": {},
     "outputs": []
    },
    {
     "cell_type": "code",
     "collapsed": false,
     "input": [
      "transaction_comments_titles.aggregate([\n",
      "     { '$match': { '$text': { '$search': 'bag backpack' } } },\n",
      "     { '$project': { '_id': 1 } },\n",
      "     { '$out': \"transaction_bags_ids\" }\n",
      "])\n",
      "\n",
      "transaction_bags_ids = db['transaction_bags_ids']\n",
      "\n",
      "bags_ids = transaction_bags_ids.find({},{'_id':1}).distinct('_id')\n",
      "\n",
      "transaction_bags = db['transaction_bags']\n",
      "\n",
      "#this populated the database and only needed to be run once\n",
      "transaction_bags.insert(transaction_comments.find(   \n",
      "                            {'_id': {'$in': bags_ids}}))\n",
      "\n",
      "#this has been run!\n",
      "transaction_bags.ensure_index(\n",
      "\n",
      "    [('item_title', 'text')],\n",
      "\n",
      "    name=\"search_index\",\n",
      "\n",
      "    default_language= \"en\",\n",
      "\n",
      "    language_override= \"en\" \n",
      ")"
     ],
     "language": "python",
     "metadata": {},
     "outputs": [
      {
       "metadata": {},
       "output_type": "pyout",
       "prompt_number": 5,
       "text": [
        "'search_index'"
       ]
      }
     ],
     "prompt_number": 5
    },
    {
     "cell_type": "code",
     "collapsed": false,
     "input": [
      "transaction_comments_titles.aggregate([\n",
      "     { '$project': { '_id': 1 } },\n",
      "     { '$out': \"all_ever_comment_ids\" }\n",
      "])"
     ],
     "language": "python",
     "metadata": {},
     "outputs": [
      {
       "metadata": {},
       "output_type": "pyout",
       "prompt_number": 6,
       "text": [
        "{u'ok': 1.0, u'result': []}"
       ]
      }
     ],
     "prompt_number": 6
    },
    {
     "cell_type": "code",
     "collapsed": false,
     "input": [
      "# transaction_comments_titles.aggregate([\n",
      "#      { '$match': { '$text': { '$search': '\\\"weekender\\\" bag' } } },\n",
      "#      { '$project': { '_id': 1 } },\n",
      "#      { '$out': \"weekender_transaction_bags_ids\" }\n",
      "# ])\n",
      "\n",
      "# weekender_transaction_bags_ids = db['weekender_transaction_bags_ids']\n",
      "\n",
      "# weekender_ids = weekender_transaction_bags_ids.find({},{'_id':1}).distinct('_id')\n",
      "\n",
      "\n",
      "\n",
      "\n",
      "# transaction_comments_titles.aggregate([\n",
      "#      { '$match': { '$text': { '$search': '\\\"tote\\\" bag' } } },\n",
      "#      { '$project': { '_id': 1 } },\n",
      "#      { '$out': \"tote_transaction_bags_ids\" }\n",
      "# ])\n",
      "\n",
      "# tote_transaction_bags_ids = db['tote_transaction_bags_ids']\n",
      "\n",
      "# tote_ids = tote_transaction_bags_ids.find({},{'_id':1}).distinct('_id')\n",
      "\n",
      "\n",
      "# transaction_comments_titles.aggregate([\n",
      "#      { '$match': { '$text': { '$search': '\\\"duffel\\\" bag' } } },\n",
      "#      { '$project': { '_id': 1 } },\n",
      "#      { '$out': \"duffel_transaction_bags_ids\" }\n",
      "# ])\n",
      "\n",
      "# duffel_transaction_bags_ids = db['duffel_transaction_bags_ids']\n",
      "\n",
      "# duffel_ids = duffel_transaction_bags_ids.find({},{'_id':1}).distinct('_id')\n",
      "\n",
      "\n",
      "\n",
      "\n",
      "\n",
      "\n",
      "# transaction_comments_titles.aggregate([\n",
      "#      { '$match': { '$text': { '$search': '\\\"travel\\\" bag' } } },\n",
      "#      { '$project': { '_id': 1 } },\n",
      "#      { '$out': \"travel_transaction_bags_ids\" }\n",
      "# ])\n",
      "\n",
      "# travel_transaction_bags_ids = db['travel_transaction_bags_ids']\n",
      "\n",
      "# travel_ids = travel_transaction_bags_ids.find({},{'_id':1}).distinct('_id')\n",
      "\n",
      "\n",
      "# weekender_transaction_bags = db['weekender_transaction_bags']\n",
      "# tote_transaction_bags = db['tote_transaction_bags']\n",
      "# duffel_transaction_bags = db['duffel_transaction_bags']\n",
      "# travel_transaction_bags = db['travel_transaction_bags']\n",
      "\n",
      "\n",
      "\n",
      "# #this populated the database and only needed to be run once\n",
      "# weekender_transaction_bags.insert(transaction_comments.find(   \n",
      "#                             {'_id': {'$in': weekender_ids}}))\n",
      "\n",
      "# tote_transaction_bags.insert(transaction_comments.find(   \n",
      "#                             {'_id': {'$in': tote_ids}}))\n",
      "\n",
      "# duffel_transaction_bags.insert(transaction_comments.find(   \n",
      "#                             {'_id': {'$in': duffel_ids}}))\n",
      "\n",
      "# travel_transaction_bags.insert(transaction_comments.find(   \n",
      "#                             {'_id': {'$in': travel_ids}}))\n",
      "\n",
      "\n",
      "# weekender_transaction_bags.aggregate(\n",
      "#     [\n",
      "#         { '$group' : { \"_id\" : \"$shop\" , 'number' : { '$sum' : 1 } } },\n",
      "#         { '$sort' : { 'number' : -1 } },\n",
      "#         { '$limit' : 20 },\n",
      "#         { '$out' : \"top_weekender_shops\"}\n",
      "#     ]\n",
      "# )\n",
      "\n",
      "# tote_transaction_bags.aggregate(\n",
      "#     [\n",
      "#         { '$group' : { \"_id\" : \"$shop\" , 'number' : { '$sum' : 1 } } },\n",
      "#         { '$sort' : { 'number' : -1 } },\n",
      "#         { '$limit' : 20 },\n",
      "#         { '$out' : \"top_tote_shops\"}\n",
      "#     ]\n",
      "# )\n",
      "\n",
      "# duffel_transaction_bags.aggregate(\n",
      "#     [\n",
      "#         { '$group' : { \"_id\" : \"$shop\" , 'number' : { '$sum' : 1 } } },\n",
      "#         { '$sort' : { 'number' : -1 } },\n",
      "#         { '$limit' : 20 },\n",
      "#         { '$out' : \"top_duffel_shops\"}\n",
      "#     ]\n",
      "# )\n",
      "\n",
      "# travel_transaction_bags.aggregate(\n",
      "#     [\n",
      "#         { '$group' : { \"_id\" : \"$shop\" , 'number' : { '$sum' : 1 } } },\n",
      "#         { '$sort' : { 'number' : -1 } },\n",
      "#         { '$limit' : 20 },\n",
      "#         { '$out' : \"top_travel_shops\"}\n",
      "#     ]\n",
      "# )"
     ],
     "language": "python",
     "metadata": {},
     "outputs": [],
     "prompt_number": 44
    },
    {
     "cell_type": "markdown",
     "metadata": {},
     "source": [
      "scrape"
     ]
    },
    {
     "cell_type": "code",
     "collapsed": false,
     "input": [
      "import sys\n",
      "\n",
      "transaction_bags = db['transaction_bags']\n",
      "top_shops = list(transaction_bags.find({},{'shop':1}).distinct('shop'))\n",
      "transaction_listing_bags = db['transaction_listing_bags']\n",
      "\n",
      "for shop_num, shop in enumerate(top_shops):\n",
      "    shop_url = 'https://www.etsy.com/shop/%s/sold' % (shop)\n",
      "    print shop_url\n",
      "    \n",
      "    \n",
      "    \n",
      "    try:\n",
      "        page = opener.open(shop_url)\n",
      "        soup = BeautifulSoup(page)\n",
      "        \n",
      "        pages = soup.find(class_ = 'sdfsdfasdfsadfsdfasdfadsfsdfsgceeeeeeeeee')\n",
      "        print type(pages)\n",
      "        print len(pages)\n",
      "        \n",
      "        raise\n",
      "        \n",
      "        num_sold_pages = 0\n",
      "        \n",
      "        for i, link in enumerate(pages):\n",
      "            if i == len(pages) -2:\n",
      "                num_sold_pages = int(link.find('a').text)\n",
      "                \n",
      "        if num_sold_pages > 0:\n",
      "            \n",
      "            store_bags = []\n",
      "            \n",
      "            for sold_page in range(1,num_sold_pages+1):\n",
      "                shop_url_page = \"%s?page=%i\" % (shop_url,sold_page)\n",
      "                \n",
      "                page = opener.open(shop_url_page)\n",
      "                soup = BeautifulSoup(page)\n",
      "                \n",
      "                \n",
      "                items = soup.findAll(class_ = 'listing-card')\n",
      "                \n",
      "                for listing in items:\n",
      "                    \n",
      "                    try:\n",
      "                        title = listing.find(class_ = 'listing-thumb')['title'] \n",
      "                    except:\n",
      "                        title = '__NO__TITLE__'\n",
      "                    \n",
      "                    \n",
      "                    if (\"bag\" in title) or (\"backpack\" in title): \n",
      "                       \n",
      "                        trans = listing.find(class_ = 'listing-thumb')['href']\n",
      "                        trans_id = trans.split(\"?\")[0].split(\"/\")[2]\n",
      "                        \n",
      "                        src = listing.find('img')['src']\n",
      "                        listing_num = listing.find(class_ = 'collect-container')['data-listing-id']\n",
      "\n",
      "                                                \n",
      "                        trans_listing_dict = {\n",
      "                            \"_id\":trans_id,\n",
      "                            \"item_title\":title,\n",
      "                            \"src\":src,\n",
      "                            \"listing_id\":listing_num\n",
      "                            }\n",
      "                        \n",
      "                        store_bags.append(trans_listing_dict)\n",
      "                        \n",
      "        transaction_listing_bags.insert(store_bags)\n",
      "                        \n",
      "                        \n",
      "    except:\n",
      "        e = sys.exc_info()\n",
      "        print e"
     ],
     "language": "python",
     "metadata": {},
     "outputs": []
    },
    {
     "cell_type": "code",
     "collapsed": false,
     "input": [
      "\n"
     ],
     "language": "python",
     "metadata": {},
     "outputs": [],
     "prompt_number": 84
    },
    {
     "cell_type": "code",
     "collapsed": false,
     "input": [],
     "language": "python",
     "metadata": {},
     "outputs": []
    },
    {
     "cell_type": "code",
     "collapsed": false,
     "input": [
      "# etsy_bags.find( { '$text': { '$search': '\\\"tote\\\" \\\"bag\\\" ' } } ).count()\n",
      "# etsy_bags.find( { '$text': { '$search': '\\\"tote\\\" bag' } } ).count()\n",
      "# etsy_bags.find( { '$text': { '$search': '\\\"weekender\\\" bag' } } ).count()\n",
      "# etsy_bags.find( { '$text': { '$search': '\\\"duffel\\\" bag' } } ).count()\n",
      "# etsy_bags.find( { '$text': { '$search': '\\\"travel\\\" bag' } } ).count()\n",
      "\n",
      "\n",
      "# for i in range(len(bag_reviews)):\n",
      "    \n",
      "#     first_review = bag_review_vectors.getrow(i)\n",
      "#     cx = coo_matrix(first_review)\n",
      "\n",
      "#     test = zip(cx.col, cx.data)\n",
      "\n",
      "#     top_ngrams = sorted(test, key=lambda word_tuple: word_tuple[1], reverse=True)[:3]\n",
      "#     for x in top_ngrams:\n",
      "#         print index_vocab[x[0]],x[1]\n",
      "    \n",
      "#     print\n",
      "#     if i == 10:\n",
      "#         break\n"
     ],
     "language": "python",
     "metadata": {},
     "outputs": [],
     "prompt_number": 9
    },
    {
     "cell_type": "code",
     "collapsed": false,
     "input": [
      "from sklearn.cluster import KMeans\n",
      "from sklearn.cluster import MeanShift\n",
      "from sklearn.cluster import DBSCAN\n",
      "from sklearn.cluster import DBSCAN"
     ],
     "language": "python",
     "metadata": {},
     "outputs": [],
     "prompt_number": 122
    },
    {
     "cell_type": "code",
     "collapsed": false,
     "input": [
      "from sklearn.cluster import KMeans\n",
      "\n",
      "transaction_bags = db['transaction_bags']\n",
      "\n",
      "# text analysis code\n",
      "\n",
      "neg = { '$lte': 3 }\n",
      "pos = {'$gte': 4 }\n",
      "\n",
      "comment_query_clusters = []\n",
      "\n",
      "#for bag_type in ['tote', 'duffel', 'weekender', 'sack', 'bucket']:\n",
      "for bag_type in ['weekender']:\n",
      "    \n",
      "    k_vals = []\n",
      "\n",
      "    for k in [3,4,5,6,7,8]:    \n",
      "        \n",
      "        sentiments = []\n",
      "        \n",
      "        for sentiment in [pos, neg]:\n",
      "\n",
      "            #search_string = '\\\"%s\\\" bag' % (bag_type)\n",
      "            \n",
      "            search_string = '\\\"%s\\\"' % (bag_type)\n",
      "\n",
      "            bag_reviews = []\n",
      "\n",
      "            for bag_review in transaction_bags.find( \n",
      "                { '$text': { '$search': search_string }, 'stars': sentiment} ,\n",
      "                { 'review_text':1,'_id':0}\n",
      "                ):\n",
      "               bag_reviews.append(bag_review[\"review_text\"]) # TfidfVectorizer requires a list\n",
      "\n",
      "\n",
      "            vectorizer = TfidfVectorizer(stop_words=\"english\", ngram_range=(1,1))\n",
      "            bag_review_vectors = vectorizer.fit_transform(bag_reviews)\n",
      "            vocab_index = vectorizer.vocabulary_\n",
      "            index_vocab = {v: i for i, v in vocab_index.items()}\n",
      "\n",
      "            km = KMeans(n_clusters=k)\n",
      "            km.fit(bag_review_vectors)\n",
      "\n",
      "            sentences_clusters = zip(km.labels_,bag_reviews,bag_review_vectors)\n",
      "\n",
      "            sentece_cluster_dict = {}\n",
      "\n",
      "            for i, j in enumerate(sentences_clusters):\n",
      "                sentece_cluster_dict.setdefault(j[0],[]).append([j[1],j[2]])\n",
      "            \n",
      "            sentiment_count = len(bag_reviews)\n",
      "            \n",
      "            if sentiment == pos:\n",
      "                sent_text = 'pos'\n",
      "                #print '%i positive reviews for %s' % (sentiment_count,search_string)\n",
      "            else:\n",
      "                sent_text = 'neg'\n",
      "                #print '%i negative reviews for %s' % (sentiment_count,search_string)\n",
      "\n",
      "            clusters = []\n",
      "            \n",
      "            for cluster, sentences in sentece_cluster_dict.iteritems():\n",
      "\n",
      "                center_sentence =  km.cluster_centers_[cluster]\n",
      "                sentence_vectors = vstack([vector[1] for vector in sentences])\n",
      "                sentence_words = [vector[0] for vector in sentences]\n",
      "                distances = pairwise_distances(sentence_vectors,center_sentence, metric='cosine')\n",
      "                sentence_distances = sorted(list(zip(distances,sentence_words)))\n",
      "\n",
      "                center_sentence_text = sentence_distances[0][1]\n",
      "                #print '\"average\" sentence for %s cluster: %s' % (search_string, center_sentence_text)\n",
      "                                \n",
      "                similar_sentiment_count = len(sentence_words)\n",
      "                #print \"%i buyers expressed similar sentiment\" % similar_sentiment_count\n",
      "\n",
      "                #for sentence in sentence_distances[1:5]:\n",
      "                    #print sentence[1]\n",
      "                    \n",
      "                close_sentence_text = [sentence[1] for sentence in sentence_distances[1:5]]\n",
      "                \n",
      "                cluster_dict = {'center_sentence_text': center_sentence_text, \n",
      "                                'close_sentence_text': close_sentence_text,\n",
      "                                'cluster_sentence_count': similar_sentiment_count}\n",
      "                \n",
      "                clusters.append(cluster_dict)\n",
      "            \n",
      "            sentiment_dict = {'sentiment':sent_text,\n",
      "                              'clusters':clusters,\n",
      "                              'sentiment_count':sentiment_count}\n",
      "            \n",
      "            sentiments.append(sentiment_dict)\n",
      "        \n",
      "        k_clusters = {'k':k,\n",
      "                      'sentiments':sentiments}\n",
      "        \n",
      "        k_vals.append(k_clusters)\n",
      "    \n",
      "    \n",
      "    comment_query = {'query': bag_type,\n",
      "                     'cluster_summary':k_vals}\n",
      "    \n",
      "    comment_query_clusters.append(comment_query)"
     ],
     "language": "python",
     "metadata": {},
     "outputs": [],
     "prompt_number": 309
    },
    {
     "cell_type": "code",
     "collapsed": false,
     "input": [
      "comment_query_clusters_coll = db['comment_query_clusters']\n",
      "\n",
      "comment_query_clusters_coll.insert(comment_query_clusters)\n",
      "\n",
      "comments = comment_query_clusters_coll.find_one({'query':'weekender'})"
     ],
     "language": "python",
     "metadata": {},
     "outputs": [],
     "prompt_number": 310
    },
    {
     "cell_type": "code",
     "collapsed": false,
     "input": [
      "etsy_bags_active = db['etsy_shops_inventories_master']\n",
      "\n",
      "tote_prices = []\n",
      "for price in etsy_bags_active.find( { '$text': { '$search': '\\\"tote\\\" bag' } } ,{'price':1,'_id':0}):\n",
      "    tote_prices.append(float(price['price']))\n",
      "\n",
      "plt.hist(tote_prices, range=[0,200], bins = 35)\n",
      "plt.xlabel('Price ($)')\n",
      "plt.ylabel('Count')\n",
      "plt.title('Prices for %s Tote Bags on Etsy (3/23/2015)' % (len(tote_prices)))\n",
      "print 'Average Tote Price: $', np.mean(tote_prices)\n",
      "print 'Median (middle) Tote Price: $', np.median(tote_prices)"
     ],
     "language": "python",
     "metadata": {},
     "outputs": [
      {
       "output_type": "stream",
       "stream": "stdout",
       "text": [
        "Average Tote Price: $ 73.3039321648\n",
        "Median (middle) Tote Price: $ 30.0\n"
       ]
      },
      {
       "metadata": {},
       "output_type": "display_data",
       "png": "[encoded data removed]",
       "text": [
        "<matplotlib.figure.Figure at 0x109542610>"
       ]
      }
     ],
     "prompt_number": 4
    },
    {
     "cell_type": "code",
     "collapsed": false,
     "input": [
      "current_bag_market = db['current_bag_market']\n",
      "\n",
      "weekender_prices = []\n",
      "for price in current_bag_market.find( { '$text': { '$search': '\\\"weekender\\\" bag' } } ,{'price':1,'_id':0}):\n",
      "    weekender_prices.append(float(price['price']))\n",
      "\n",
      "mean_weekender =  np.mean(weekender_prices)\n",
      "median_weekender =  np.median(weekender_prices)    \n",
      "\n",
      "plt.hist(weekender_prices, range=[0,300], bins = 30)\n",
      "plt.xlabel('Price ($)')\n",
      "plt.ylabel('Count')\n",
      "plt.title('Prices for %s Weekender Bags on Etsy' % (len(weekender_prices)))\n",
      "\n",
      "\n",
      "fig = plt.gcf()\n",
      "plot_url = py.plot_mpl(fig, filename='weekender_bsg_price_distro')"
     ],
     "language": "python",
     "metadata": {},
     "outputs": [],
     "prompt_number": 197
    },
    {
     "cell_type": "code",
     "collapsed": false,
     "input": [
      "current_bag_market = db['current_bag_market']\n",
      "\n",
      "weekender_prices = []\n",
      "for price in current_bag_market.find( { '$text': { '$search': '\\\"weekender\\\" bag' } } ,{'price':1,'_id':0}):\n",
      "    weekender_prices.append(float(price['price']))\n",
      "\n"
     ],
     "language": "python",
     "metadata": {},
     "outputs": [],
     "prompt_number": 192
    },
    {
     "cell_type": "code",
     "collapsed": false,
     "input": [
      "def round_to_value(number,roundto):\n",
      "    return int((round(number / roundto) * roundto))\n",
      "\n",
      "mean_weekender =  np.mean(weekender_prices)\n",
      "median_weekender =  np.median(weekender_prices)\n",
      "min_weekender = np.min(weekender_prices)\n",
      "max_weekender = np.max(weekender_prices)\n",
      "\n",
      "bags_count = len(weekender_prices)\n",
      "print min_weekender\n",
      "print max_weekender\n",
      "\n",
      "max_hist = 2.5*np.std(weekender_prices)\n",
      "print max_hist\n",
      "print round_to_value(max_hist,25)\n",
      "print\n",
      "\n",
      "hist = np.histogram(weekender_prices,range=(0,max_hist),bins=np.arange(10,max_hist+10,10))\n",
      "pdf_hist = np.histogram(weekender_prices,range=(0,max_hist),bins=np.arange(10,max_hist+10,10))\n",
      "bins = list(hist[1])\n",
      "print bins\n",
      "print\n",
      "counts = list(hist[0])\n",
      "print counts\n",
      "print\n",
      "\n",
      "sum = np.sum(counts)\n",
      "norm = [count/float(sum) for count in counts]\n",
      "print norm"
     ],
     "language": "python",
     "metadata": {},
     "outputs": [
      {
       "output_type": "stream",
       "stream": "stdout",
       "text": [
        "8.0\n",
        "2270.11\n",
        "315.248764144\n",
        "325\n",
        "\n",
        "[10.0, 20.0, 30.0, 40.0, 50.0, 60.0, 70.0, 80.0, 90.0, 100.0, 110.0, 120.0, 130.0, 140.0, 150.0, 160.0, 170.0, 180.0, 190.0, 200.0, 210.0, 220.0, 230.0, 240.0, 250.0, 260.0, 270.0, 280.0, 290.0, 300.0, 310.0, 320.0]\n",
        "\n",
        "[111, 178, 295, 195, 138, 169, 98, 117, 74, 43, 48, 57, 30, 45, 39, 21, 55, 59, 25, 10, 17, 17, 9, 7, 10, 1, 4, 5, 6, 3, 4]\n",
        "\n",
        "[0.05873015873015873, 0.094179894179894183, 0.15608465608465608, 0.10317460317460317, 0.07301587301587302, 0.089417989417989424, 0.05185185185185185, 0.061904761904761907, 0.039153439153439155, 0.022751322751322751, 0.025396825396825397, 0.030158730158730159, 0.015873015873015872, 0.023809523809523808, 0.020634920634920634, 0.011111111111111112, 0.029100529100529099, 0.031216931216931216, 0.013227513227513227, 0.0052910052910052907, 0.0089947089947089946, 0.0089947089947089946, 0.0047619047619047623, 0.0037037037037037038, 0.0052910052910052907, 0.00052910052910052914, 0.0021164021164021165, 0.0026455026455026454, 0.0031746031746031746, 0.0015873015873015873, 0.0021164021164021165]\n"
       ]
      }
     ],
     "prompt_number": 263
    },
    {
     "cell_type": "code",
     "collapsed": false,
     "input": [
      "# import plotly.plotly as py\n",
      "# from plotly.graph_objs import *\n",
      "# py.sign_in('mmoliterno', 'ces6tyy83r')\n",
      "\n",
      "# x=bins,\n",
      "# y=counts,\n",
      "# text = [\"Probability density: %0.3f\"%(pd) for pd in norm],\n",
      "# title='Current Prices of Weekender Bags on Etsy (%i total listings)'%(bags_count),\n"
     ],
     "language": "python",
     "metadata": {},
     "outputs": [],
     "prompt_number": 264
    },
    {
     "cell_type": "code",
     "collapsed": false,
     "input": [],
     "language": "python",
     "metadata": {},
     "outputs": []
    },
    {
     "cell_type": "code",
     "collapsed": false,
     "input": [
      "duffel_prices = []\n",
      "for price in etsy_bags_active.find( { '$text': { '$search': '\\\"duffel\\\" bag' } } ,{'price':1,'_id':0}):\n",
      "    duffel_prices.append(float(price['price']))\n",
      "\n",
      "plt.hist(duffel_prices, range=[0,500], bins = 25)\n",
      "plt.xlabel('Price ($)')\n",
      "plt.ylabel('Count')\n",
      "plt.title('Prices for %s Duffel Bags on Etsy (3/2/2015)' % (len(duffel_prices)))\n",
      "print 'Average Duffel Price: $', np.mean(duffel_prices)\n",
      "print 'Median (middle) Duffel Price: $', np.median(duffel_prices)"
     ],
     "language": "python",
     "metadata": {},
     "outputs": [
      {
       "output_type": "stream",
       "stream": "stdout",
       "text": [
        "Average Duffel Price: $ 102.740545455\n",
        "Median (middle) Duffel Price: $ 49.0\n"
       ]
      },
      {
       "metadata": {},
       "output_type": "display_data",
       "png": "[encoded data removed]",
       "text": [
        "<matplotlib.figure.Figure at 0x114613f50>"
       ]
      }
     ],
     "prompt_number": 40
    },
    {
     "cell_type": "code",
     "collapsed": false,
     "input": [
      "bucket_prices = []\n",
      "for price in etsy_bags_active.find( { '$text': { '$search': '\\\"bucket\\\" bag' } } ,{'price':1,'_id':0}):\n",
      "    bucket_prices.append(float(price['price']))\n",
      "\n",
      "plt.hist(bucket_prices, range=[0,300], bins = 15)\n",
      "plt.xlabel('Price ($)')\n",
      "plt.ylabel('Count')\n",
      "plt.title('Prices for %s Bucket Bags on Etsy (3/2/2015)' % (len(bucket_prices)))\n",
      "print 'Average Bucket Price: $', np.mean(bucket_prices)\n",
      "print 'Median (middle) Bucket Price: $', np.median(bucket_prices)"
     ],
     "language": "python",
     "metadata": {},
     "outputs": [
      {
       "output_type": "stream",
       "stream": "stdout",
       "text": [
        "Average Bucket Price: $ 61.0561275416\n",
        "Median (middle) Bucket Price: $ 32.0\n"
       ]
      },
      {
       "metadata": {},
       "output_type": "display_data",
       "png": "[encoded data removed]",
       "text": [
        "<matplotlib.figure.Figure at 0x1147abed0>"
       ]
      }
     ],
     "prompt_number": 11
    },
    {
     "cell_type": "code",
     "collapsed": false,
     "input": [
      "sack_prices = []\n",
      "for price in etsy_bags_active.find( { '$text': { '$search': '\\\"sack\\\" bag' } } ,{'price':1,'_id':0}):\n",
      "    sack_prices.append(float(price['price']))\n",
      "\n",
      "plt.hist(sack_prices, range=[0,300], bins = 25)\n",
      "plt.xlabel('Price ($)')\n",
      "plt.ylabel('Count')\n",
      "plt.title('Prices for %s Sack Bags on Etsy (3/2/2015)' % (len(sack_prices)))\n",
      "print 'Average Sack Price: $', np.mean(sack_prices)\n",
      "print 'Median (middle) Sack Price: $', np.median(sack_prices)"
     ],
     "language": "python",
     "metadata": {},
     "outputs": [
      {
       "output_type": "stream",
       "stream": "stdout",
       "text": [
        "Average Sack Price: $ 64.2506383855\n",
        "Median (middle) Sack Price: $ 25.0\n"
       ]
      },
      {
       "metadata": {},
       "output_type": "display_data",
       "png": "[encoded data removed]",
       "text": [
        "<matplotlib.figure.Figure at 0x115596e50>"
       ]
      }
     ],
     "prompt_number": 41
    },
    {
     "cell_type": "code",
     "collapsed": false,
     "input": [
      "import pprint\n",
      "\n",
      "for bag_type in ['tote', 'duffel', 'weekender', 'sack', 'bucket']:\n",
      "    search_string = '\\\"%s\\\" bag' % (bag_type)\n",
      "    print search_string\n",
      "    pprint.pprint(etsy_bags_active.aggregate(\n",
      "      [\n",
      "        { '$match' : { '$text' : { '$search': search_string } } },\n",
      "        { '$unwind' : \"$materials\" },\n",
      "        { '$group' : { \"_id\" : \"$materials\" , 'number' : { '$sum' : 1 } } },\n",
      "        { '$sort' : { 'number' : -1 } },\n",
      "        { '$limit' : 20 }\n",
      "      ]\n",
      "    ))\n",
      "    print "
     ],
     "language": "python",
     "metadata": {},
     "outputs": [
      {
       "output_type": "stream",
       "stream": "stdout",
       "text": [
        "\"tote\" bag\n",
        "{"
       ]
      },
      {
       "output_type": "stream",
       "stream": "stdout",
       "text": [
        "u'ok': 1.0,\n",
        " u'result': [{u'_id': u'cotton', u'number': 5001},\n",
        "             {u'_id': u'canvas', u'number': 2964},\n",
        "             {u'_id': u'leather', u'number': 2048},\n",
        "             {u'_id': u'thread', u'number': 1902},\n",
        "             {u'_id': u'fabric', u'number': 1192},\n",
        "             {u'_id': u'cotton fabric', u'number': 1093},\n",
        "             {u'_id': u'Cotton', u'number': 1043},\n",
        "             {u'_id': u'zipper', u'number': 938},\n",
        "             {u'_id': u'interfacing', u'number': 711},\n",
        "             {u'_id': u'ink', u'number': 641},\n",
        "             {u'_id': u'Canvas', u'number': 627},\n",
        "             {u'_id': u'ribbon', u'number': 623},\n",
        "             {u'_id': u'linen', u'number': 530},\n",
        "             {u'_id': u'magnetic snap', u'number': 516},\n",
        "             {u'_id': u'polyester', u'number': 455},\n",
        "             {u'_id': u'cotton canvas', u'number': 441},\n",
        "             {u'_id': u'button', u'number': 418},\n",
        "             {u'_id': u'tote', u'number': 399},\n",
        "             {u'_id': u'Leather', u'number': 360},\n",
        "             {u'_id': u'webbing', u'number': 358}]}\n",
        "\n",
        "\"duffel\" bag\n",
        "{"
       ]
      },
      {
       "output_type": "stream",
       "stream": "stdout",
       "text": [
        "u'ok': 1.0,\n",
        " u'result': [{u'_id': u'cotton', u'number': 69},\n",
        "             {u'_id': u'leather', u'number': 52},\n",
        "             {u'_id': u'canvas', u'number': 50},\n",
        "             {u'_id': u'Leather', u'number': 38},\n",
        "             {u'_id': u'zipper', u'number': 35},\n",
        "             {u'_id': u'thread', u'number': 33},\n",
        "             {u'_id': u'fabric', u'number': 28},\n",
        "             {u'_id': u'nylon', u'number': 25},\n",
        "             {u'_id': u'Cotton', u'number': 21},\n",
        "             {u'_id': u'Canvas', u'number': 19},\n",
        "             {u'_id': u'Zipper', u'number': 13},\n",
        "             {u'_id': u'batting', u'number': 12},\n",
        "             {u'_id': u'brass', u'number': 11},\n",
        "             {u'_id': u'Polyester', u'number': 11},\n",
        "             {u'_id': u'nylon zipper', u'number': 10},\n",
        "             {u'_id': u'straps', u'number': 10},\n",
        "             {u'_id': u'waxed canvas', u'number': 9},\n",
        "             {u'_id': u'curdura', u'number': 9},\n",
        "             {u'_id': u'polyester', u'number': 9},\n",
        "             {u'_id': u'genuine leather', u'number': 8}]}\n",
        "\n",
        "\"weekender\" bag\n",
        "{"
       ]
      },
      {
       "output_type": "stream",
       "stream": "stdout",
       "text": [
        "u'ok': 1.0,\n",
        " u'result': [{u'_id': u'leather', u'number': 112},\n",
        "             {u'_id': u'cotton', u'number': 106},\n",
        "             {u'_id': u'canvas', u'number': 88},\n",
        "             {u'_id': u'zipper', u'number': 63},\n",
        "             {u'_id': u'Leather', u'number': 52},\n",
        "             {u'_id': u'Cotton', u'number': 50},\n",
        "             {u'_id': u'thread', u'number': 27},\n",
        "             {u'_id': u'fabric', u'number': 26},\n",
        "             {u'_id': u'metal', u'number': 25},\n",
        "             {u'_id': u'waxed canvas', u'number': 25},\n",
        "             {u'_id': u'faux leather', u'number': 19},\n",
        "             {u'_id': u'vinyl', u'number': 17},\n",
        "             {u'_id': u'nylon', u'number': 16},\n",
        "             {u'_id': u'upholstery fabric', u'number': 16},\n",
        "             {u'_id': u'interfacing', u'number': 16},\n",
        "             {u'_id': u'brass', u'number': 15},\n",
        "             {u'_id': u'Tapestry', u'number': 15},\n",
        "             {u'_id': u'cotton canvas', u'number': 15},\n",
        "             {u'_id': u'linen', u'number': 15},\n",
        "             {u'_id': u'polyester', u'number': 14}]}\n",
        "\n",
        "\"sack\" bag\n",
        "{"
       ]
      },
      {
       "output_type": "stream",
       "stream": "stdout",
       "text": [
        "u'ok': 1.0,\n",
        " u'result': [{u'_id': u'cotton', u'number': 668},\n",
        "             {u'_id': u'thread', u'number': 249},\n",
        "             {u'_id': u'canvas', u'number': 230},\n",
        "             {u'_id': u'leather', u'number': 178},\n",
        "             {u'_id': u'burlap', u'number': 140},\n",
        "             {u'_id': u'fabric', u'number': 125},\n",
        "             {u'_id': u'Cotton', u'number': 116},\n",
        "             {u'_id': u'ink', u'number': 103},\n",
        "             {u'_id': u'zipper', u'number': 89},\n",
        "             {u'_id': u'velcro', u'number': 81},\n",
        "             {u'_id': u'Canvas', u'number': 79},\n",
        "             {u'_id': u'webbing', u'number': 75},\n",
        "             {u'_id': u'feed sack', u'number': 71},\n",
        "             {u'_id': u'interfacing', u'number': 66},\n",
        "             {u'_id': u'jute', u'number': 65},\n",
        "             {u'_id': u'nylon', u'number': 65},\n",
        "             {u'_id': u'cotton fabric', u'number': 59},\n",
        "             {u'_id': u'Leather', u'number': 45},\n",
        "             {u'_id': u'vintage', u'number': 44},\n",
        "             {u'_id': u'love', u'number': 44}]}\n",
        "\n",
        "\"bucket\" bag\n",
        "{"
       ]
      },
      {
       "output_type": "stream",
       "stream": "stdout",
       "text": [
        "u'ok': 1.0,\n",
        " u'result': [{u'_id': u'leather', u'number': 286},\n",
        "             {u'_id': u'cotton', u'number': 203},\n",
        "             {u'_id': u'fabric', u'number': 118},\n",
        "             {u'_id': u'thread', u'number': 117},\n",
        "             {u'_id': u'metal', u'number': 112},\n",
        "             {u'_id': u'interfacing', u'number': 105},\n",
        "             {u'_id': u'Vinyl', u'number': 76},\n",
        "             {u'_id': u'canvas', u'number': 68},\n",
        "             {u'_id': u'plastic', u'number': 65},\n",
        "             {u'_id': u'vinyl', u'number': 64},\n",
        "             {u'_id': u'Metal', u'number': 61},\n",
        "             {u'_id': u'Leather', u'number': 60},\n",
        "             {u'_id': u'Ribbon', u'number': 50},\n",
        "             {u'_id': u'ribbon', u'number': 47},\n",
        "             {u'_id': u'Cotton', u'number': 45},\n",
        "             {u'_id': u'cotton fabric', u'number': 42},\n",
        "             {u'_id': u'linen', u'number': 39},\n",
        "             {u'_id': u'brass', u'number': 39},\n",
        "             {u'_id': u'wood', u'number': 34},\n",
        "             {u'_id': u'polyester', u'number': 34}]}\n",
        "\n"
       ]
      }
     ],
     "prompt_number": 13
    },
    {
     "cell_type": "code",
     "collapsed": false,
     "input": [
      "transaction_listing_bags = db['transaction_listing_bags']\n",
      "\n",
      "transaction_listing_bags.ensure_index(\n",
      "\n",
      "    [('item_title', 'text')],\n",
      "\n",
      "    name=\"search_index\",\n",
      "\n",
      "    default_language= \"en\",\n",
      "\n",
      "    language_override= \"en\" )"
     ],
     "language": "python",
     "metadata": {},
     "outputs": [
      {
       "metadata": {},
       "output_type": "pyout",
       "prompt_number": 12,
       "text": [
        "'search_index'"
       ]
      }
     ],
     "prompt_number": 12
    },
    {
     "cell_type": "code",
     "collapsed": false,
     "input": [
      "transaction_listing_bags = db['transaction_listing_bags']\n",
      "weekender_sales = db['temp_weekender_sales']\n",
      "temp_weekender_top_stores_by_sales = db['temp_weekender_top_stores_by_sales']\n",
      "temp_weekender_top_listings_by_sales = db['temp_weekender_top_listings_by_sales']\n",
      "\n",
      "transaction_listing_bags.aggregate([\n",
      "    { '$match': { '$text': { '$search': 'weekender' } } },\n",
      "    { '$out' : \"temp_weekender_sales\"}\n",
      "])\n",
      "\n",
      "\n",
      "## make this so it actually shows the top items\n",
      "weekender_sales.aggregate([\n",
      "    { '$group': { \n",
      "    '_id': { 'shop': '$shop'}, \n",
      "    'sales_count': { '$sum': 1 },\n",
      "    'src': { '$push': '$src'},\n",
      "    'listing_ids': { '$addToSet': '$listing_id'}}}, \n",
      "    { '$out' : \"temp_weekender_top_stores_by_sales\"}\n",
      "])\n",
      "\n",
      "\n",
      "weekender_sales.aggregate([\n",
      "    { '$group': { \n",
      "    '_id': { 'listing_id': '$listing_id'}, \n",
      "    'sales_count': { '$sum': 1 },\n",
      "    'src': { '$push': '$src'},\n",
      "    'title': { '$push': '$item_title'},\n",
      "    'shop': { '$addToSet': '$shop'},\n",
      "    }},\n",
      "\n",
      "    { '$out' : \"temp_weekender_top_listings_by_sales\"}\n",
      "])\n",
      "\n",
      "\n",
      "# weekender_sales.drop()\n",
      "# temp_weekender_top_stores_by_sales.drop()\n",
      "# temp_weekender_top_listings_by_sales.drop()"
     ],
     "language": "python",
     "metadata": {},
     "outputs": [
      {
       "metadata": {},
       "output_type": "pyout",
       "prompt_number": 220,
       "text": [
        "{u'ok': 1.0, u'result': []}"
       ]
      }
     ],
     "prompt_number": 220
    },
    {
     "cell_type": "code",
     "collapsed": false,
     "input": [
      "# from operator import itemgetter\n",
      "# stores = list(temp_weekender_top_stores_by_sales.find())\n",
      "# top_stores = sorted(stores, key=itemgetter('sales_count'), reverse=True)\n",
      "# items = list(temp_weekender_top_listings_by_sales.find())\n",
      "# top_items = sorted(items, key=itemgetter('sales_count'), reverse=True)\n",
      "\n",
      "# def most_common(lst):\n",
      "#     return max(set(lst), key=lst.count)"
     ],
     "language": "python",
     "metadata": {},
     "outputs": [],
     "prompt_number": 182
    },
    {
     "cell_type": "code",
     "collapsed": false,
     "input": [],
     "language": "python",
     "metadata": {},
     "outputs": [],
     "prompt_number": 219
    },
    {
     "cell_type": "code",
     "collapsed": false,
     "input": [],
     "language": "python",
     "metadata": {},
     "outputs": [],
     "prompt_number": 216
    },
    {
     "cell_type": "code",
     "collapsed": false,
     "input": [],
     "language": "python",
     "metadata": {},
     "outputs": [],
     "prompt_number": 217
    },
    {
     "cell_type": "code",
     "collapsed": false,
     "input": [],
     "language": "python",
     "metadata": {},
     "outputs": [
      {
       "output_type": "stream",
       "stream": "stdout",
       "text": [
        "(u'ACAmour', 1576, [(u'115426081', 114, u'https://img1.etsystatic.com/008/0/5524229/il_170x135.396890339_1b4t.jpg'), (u'124714081', 90, u'https://img1.etsystatic.com/001/1/5524229/il_170x135.396889357_n06x.jpg'), (u'115425870', 82, u'https://img1.etsystatic.com/001/1/5524229/il_170x135.396889357_n06x.jpg')])\n"
       ]
      }
     ],
     "prompt_number": 218
    },
    {
     "cell_type": "code",
     "collapsed": false,
     "input": [],
     "language": "python",
     "metadata": {},
     "outputs": []
    }
   ],
   "metadata": {}
  }
 ]
}