{
 "worksheets": [
  {
   "cells": [
    {
     "cell_type": "code",
     "metadata": {},
     "outputs": [],
     "input": [
      "from luther_utils import *\n",
      "# import urllib2\n",
      "# from bs4 import BeautifulSoup\n",
      "# import re\n",
      "# import matplotlib.pyplot as plt\n",
      "import pickle\n",
      "# import time\n",
      "# from random import randint"
     ],
     "language": "python",
     "prompt_number": 1
    },
    {
     "cell_type": "markdown",
     "metadata": {},
     "source": [
      "First, we grab all of the urls from the [Movies A-Z](http://www.boxofficemojo.com/movies/alphabetical.htm) page on [Bos Office Mojo](boxofficemojo.com)."
     ]
    },
    {
     "cell_type": "code",
     "metadata": {},
     "outputs": [],
     "input": [
      "bom_alpha_urls = get_bom_alpha_urls()"
     ],
     "language": "python",
     "prompt_number": 2
    },
    {
     "cell_type": "code",
     "metadata": {},
     "outputs": [
      {
       "output_type": "stream",
       "stream": "stdout",
       "text": [
        "We have 143 pages to pull movie URLs from.\n"
       ]
      }
     ],
     "input": [
      "print 'We have %s pages to pull movie URLs from.' % (len(bom_alpha_urls))"
     ],
     "language": "python",
     "prompt_number": 3
    },
    {
     "cell_type": "markdown",
     "metadata": {},
     "source": [
      "Then we grab all of the URLs from each page.  "
     ]
    },
    {
     "cell_type": "code",
     "metadata": {},
     "outputs": [],
     "input": [
      "master_movies_list = get_all_bom_urls(bom_alpha_urls)"
     ],
     "language": "python",
     "prompt_number": 4
    },
    {
     "cell_type": "code",
     "metadata": {},
     "outputs": [
      {
       "output_type": "stream",
       "stream": "stdout",
       "text": [
        "We have 15319 movies to scrape.\n"
       ]
      }
     ],
     "input": [
      "print 'We have %s movies to scrape.' % (len(master_movies_list))"
     ],
     "language": "python",
     "prompt_number": 5
    },
    {
     "cell_type": "markdown",
     "metadata": {},
     "source": [
      "Let's use pickle to save this list for safe keeping."
     ]
    },
    {
     "cell_type": "code",
     "metadata": {},
     "outputs": [],
     "input": [
      "pickle.dump(master_movies_list, open(\"master_movies_list.p\", \"wb\" ) )"
     ],
     "language": "python",
     "prompt_number": 6
    },
    {
     "cell_type": "markdown",
     "metadata": {},
     "source": [
      "Now we can scrape!  To get an idea of how the scraping works, check out [my gitub for this project](https://github.com/michaelmoliterno/metis-projects/tree/master/luther). \n",
      "\n",
      "This will produce two files in the directory in which it is being run:\n",
      "mojo_scrub.p (a list of all the filed that with)\n",
      "mojo_scrub_skipped.p\n"
     ]
    },
    {
     "cell_type": "code",
     "metadata": {},
     "outputs": [],
     "input": [
      "bom_movies_dict = scrape_bom(master_movies_list)"
     ],
     "language": "python",
     "prompt_number": 9
    },
    {
     "cell_type": "markdown",
     "metadata": {},
     "source": [
      "sleeping for 5 seconds\n",
      "processed: 99\n",
      "skipped 0\n",
      "...\n",
      "error processing http://boxofficemojo.com/movies/?id=mymotherlikeswomen.htm\n",
      "sleeping for 7 seconds\n",
      "processed: 9496\n",
      "skipped 4\n",
      "sleeping for 14 seconds\n",
      "...\n",
      "processed: 15195\n",
      "skipped 5\n",
      "error processing http://boxofficemojo.com/movies/?id=yugioh.htm\n",
      "sleeping for 5 seconds\n",
      "processed: 15295\n",
      "skipped 6"
     ]
    }
   ]
  }
 ],
 "cells": [],
 "metadata": {
  "name": "",
  "signature": "sha256:75ad794c61a2cf2905cf85debf692f5b4ec754c01017ca099d607b45bfa03225"
 },
 "nbformat": 3,
 "nbformat_minor": 0
}